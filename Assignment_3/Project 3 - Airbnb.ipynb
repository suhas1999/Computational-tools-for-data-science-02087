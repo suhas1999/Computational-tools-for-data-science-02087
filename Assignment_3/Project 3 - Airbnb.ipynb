{
 "cells": [
  {
   "cell_type": "markdown",
   "metadata": {},
   "source": [
    "# Project 3: Airbnb\n",
    "**This is the third of three mandatory projects to be handed in as part of the assessment for the course 02807 Computational Tools for Data Science at Technical University of Denmark, autumn 2019.**\n",
    "\n",
    "#### Practical info\n",
    "- **The project is to be done in groups of at most 3 students**\n",
    "- **Each group has to hand in _one_ Jupyter notebook (this notebook) with their solution**\n",
    "- **The hand-in of the notebook is due 2019-12-05, 23:59 on DTU Inside**\n",
    "\n",
    "#### Your solution\n",
    "- **Your solution should be in Python/PySpark**\n",
    "- **For each question you may use as many cells for your solution as you like**\n",
    "- **You should not remove the problem statements**\n",
    "- **Your notebook should be runnable, i.e., clicking [>>] in Jupyter should generate the result that you want to be assessed**\n",
    "- **You are not expected to use machine learning to solve any of the exercises**"
   ]
  },
  {
   "cell_type": "markdown",
   "metadata": {},
   "source": [
    "# Introduction\n",
    "[Airbnb](http://airbnb.com) is an online marketplace for arranging or offering lodgings. In this project you will use Spark to analyze data obtained from the Airbnb website. The purpose of the analysis is to extract information about trends and patterns from the data.\n",
    "\n",
    "The project has two parts.\n",
    "\n",
    "### Part 1: Loading, describing and preparing the data\n",
    "There's quite a lot of data. Make sure that you can load and correctly parse the data, and that you understand what the dataset contains. You should also prepare the data for the analysis in part two. This means cleaning it and staging it so that subsequent queries are fast.\n",
    "\n",
    "### Par 2: Analysis\n",
    "In this part your goal is to learn about trends and usage patterns from the data. You should give solutions to the tasks defined in this notebook, and you should use Spark to do the data processing. You may use other libraries like for instance Pandas and matplotlib for visualisation.\n",
    "\n",
    "## Guidelines\n",
    "- Processing data should be done using Spark. Once data has been reduced to aggregate form, you may use collect to extract it into Python for visualisation.\n",
    "- Your solutions will be evaluated by correctness, code quality and interpretability of the output. This means that you have to write clean and efficient Spark code that will generate sensible execution plans, and that the tables and visualisations that you produce are meaningful and easy to read.\n",
    "- You may add more cells for your solutions, but you should not modify the notebook otherwise."
   ]
  },
  {
   "cell_type": "markdown",
   "metadata": {},
   "source": [
    "### Create Spark session and define imports"
   ]
  },
  {
   "cell_type": "code",
   "execution_count": 2,
   "metadata": {},
   "outputs": [],
   "source": [
    "from pyspark.sql import *\n",
    "from pyspark.sql import functions as f\n",
    "from pyspark.sql.types import *\n",
    "import pandas\n",
    "import numpy as np\n",
    "from pyspark.sql.types import DateType\n",
    "import matplotlib.pyplot as plt\n",
    "from pyspark.sql.functions import udf\n",
    "import datetime\n",
    "spark = SparkSession.builder.appName(\"AirBnB\").getOrCreate()\n",
    "\n"
   ]
  },
  {
   "cell_type": "markdown",
   "metadata": {},
   "source": [
    "# Part 1: Loading, describing and preparing the data\n",
    "The data comes in two files. Start by downloading the files and putting them in your `data/` folder.\n",
    "\n",
    "- [Listings](https://files.dtu.dk/u/siPzAasj8w2gI_ME/listings.csv?l) (5 GB)\n",
    "- [Reviews](https://files.dtu.dk/u/k3oaPYp6GjKBeho4/reviews.csv?l) (9.5 GB)"
   ]
  },
  {
   "cell_type": "markdown",
   "metadata": {},
   "source": [
    "### Load the data\n",
    "The data has multiline rows (rows that span multiple lines in the file). To correctly parse these you should use the `multiline` option and set the `escape` character to be `\"`."
   ]
  },
  {
   "cell_type": "code",
   "execution_count": 3,
   "metadata": {},
   "outputs": [],
   "source": [
    "path_to_listings_file = \"/home/suhas/Downloads/listings.csv\"\n",
    "dfListings = spark.read.option('header', True).option('inferSchema', True).option('multiline', True).option('escape', '\"').csv(path_to_listings_file)\n"
   ]
  },
  {
   "cell_type": "code",
   "execution_count": 4,
   "metadata": {},
   "outputs": [],
   "source": [
    "path_to_reviews_file = \"/home/suhas/Downloads/reviews.csv\"\n",
    "dfReviews = spark.read.option('header', True).option('inferSchema', True).option('multiline', True).option('escape', '\"').csv(path_to_reviews_file)"
   ]
  },
  {
   "cell_type": "markdown",
   "metadata": {},
   "source": [
    "### Describe the data\n",
    "List the features (schema) and sizes of the datasets."
   ]
  },
  {
   "cell_type": "code",
   "execution_count": 4,
   "metadata": {},
   "outputs": [
    {
     "name": "stdout",
     "output_type": "stream",
     "text": [
      "root\n",
      " |-- id: string (nullable = true)\n",
      " |-- listing_url: string (nullable = true)\n",
      " |-- scrape_id: string (nullable = true)\n",
      " |-- last_scraped: string (nullable = true)\n",
      " |-- name: string (nullable = true)\n",
      " |-- summary: string (nullable = true)\n",
      " |-- space: string (nullable = true)\n",
      " |-- description: string (nullable = true)\n",
      " |-- experiences_offered: string (nullable = true)\n",
      " |-- neighborhood_overview: string (nullable = true)\n",
      " |-- notes: string (nullable = true)\n",
      " |-- transit: string (nullable = true)\n",
      " |-- access: string (nullable = true)\n",
      " |-- interaction: string (nullable = true)\n",
      " |-- house_rules: string (nullable = true)\n",
      " |-- thumbnail_url: string (nullable = true)\n",
      " |-- medium_url: string (nullable = true)\n",
      " |-- picture_url: string (nullable = true)\n",
      " |-- xl_picture_url: string (nullable = true)\n",
      " |-- host_id: string (nullable = true)\n",
      " |-- host_url: string (nullable = true)\n",
      " |-- host_name: string (nullable = true)\n",
      " |-- host_since: string (nullable = true)\n",
      " |-- host_location: string (nullable = true)\n",
      " |-- host_about: string (nullable = true)\n",
      " |-- host_response_time: string (nullable = true)\n",
      " |-- host_response_rate: string (nullable = true)\n",
      " |-- host_acceptance_rate: string (nullable = true)\n",
      " |-- host_is_superhost: string (nullable = true)\n",
      " |-- host_thumbnail_url: string (nullable = true)\n",
      " |-- host_picture_url: string (nullable = true)\n",
      " |-- host_neighbourhood: string (nullable = true)\n",
      " |-- host_listings_count: string (nullable = true)\n",
      " |-- host_total_listings_count: string (nullable = true)\n",
      " |-- host_verifications: string (nullable = true)\n",
      " |-- host_has_profile_pic: string (nullable = true)\n",
      " |-- host_identity_verified: string (nullable = true)\n",
      " |-- street: string (nullable = true)\n",
      " |-- neighbourhood: string (nullable = true)\n",
      " |-- neighbourhood_cleansed: string (nullable = true)\n",
      " |-- neighbourhood_group_cleansed: string (nullable = true)\n",
      " |-- city: string (nullable = true)\n",
      " |-- state: string (nullable = true)\n",
      " |-- zipcode: string (nullable = true)\n",
      " |-- market: string (nullable = true)\n",
      " |-- smart_location: string (nullable = true)\n",
      " |-- country_code: string (nullable = true)\n",
      " |-- country: string (nullable = true)\n",
      " |-- latitude: string (nullable = true)\n",
      " |-- longitude: string (nullable = true)\n",
      " |-- is_location_exact: string (nullable = true)\n",
      " |-- property_type: string (nullable = true)\n",
      " |-- room_type: string (nullable = true)\n",
      " |-- accommodates: string (nullable = true)\n",
      " |-- bathrooms: string (nullable = true)\n",
      " |-- bedrooms: string (nullable = true)\n",
      " |-- beds: string (nullable = true)\n",
      " |-- bed_type: string (nullable = true)\n",
      " |-- amenities: string (nullable = true)\n",
      " |-- square_feet: string (nullable = true)\n",
      " |-- price: string (nullable = true)\n",
      " |-- weekly_price: string (nullable = true)\n",
      " |-- monthly_price: string (nullable = true)\n",
      " |-- security_deposit: string (nullable = true)\n",
      " |-- cleaning_fee: string (nullable = true)\n",
      " |-- guests_included: string (nullable = true)\n",
      " |-- extra_people: string (nullable = true)\n",
      " |-- minimum_nights: string (nullable = true)\n",
      " |-- maximum_nights: string (nullable = true)\n",
      " |-- minimum_minimum_nights: string (nullable = true)\n",
      " |-- maximum_minimum_nights: string (nullable = true)\n",
      " |-- minimum_maximum_nights: string (nullable = true)\n",
      " |-- maximum_maximum_nights: string (nullable = true)\n",
      " |-- minimum_nights_avg_ntm: string (nullable = true)\n",
      " |-- maximum_nights_avg_ntm: string (nullable = true)\n",
      " |-- calendar_updated: string (nullable = true)\n",
      " |-- has_availability: string (nullable = true)\n",
      " |-- availability_30: string (nullable = true)\n",
      " |-- availability_60: string (nullable = true)\n",
      " |-- availability_90: string (nullable = true)\n",
      " |-- availability_365: string (nullable = true)\n",
      " |-- calendar_last_scraped: string (nullable = true)\n",
      " |-- number_of_reviews: string (nullable = true)\n",
      " |-- number_of_reviews_ltm: string (nullable = true)\n",
      " |-- first_review: string (nullable = true)\n",
      " |-- last_review: string (nullable = true)\n",
      " |-- review_scores_rating: string (nullable = true)\n",
      " |-- review_scores_accuracy: string (nullable = true)\n",
      " |-- review_scores_cleanliness: string (nullable = true)\n",
      " |-- review_scores_checkin: string (nullable = true)\n",
      " |-- review_scores_communication: string (nullable = true)\n",
      " |-- review_scores_location: string (nullable = true)\n",
      " |-- review_scores_value: string (nullable = true)\n",
      " |-- requires_license: string (nullable = true)\n",
      " |-- license: string (nullable = true)\n",
      " |-- jurisdiction_names: string (nullable = true)\n",
      " |-- instant_bookable: string (nullable = true)\n",
      " |-- is_business_travel_ready: string (nullable = true)\n",
      " |-- cancellation_policy: string (nullable = true)\n",
      " |-- require_guest_profile_picture: string (nullable = true)\n",
      " |-- require_guest_phone_verification: string (nullable = true)\n",
      " |-- calculated_host_listings_count: string (nullable = true)\n",
      " |-- calculated_host_listings_count_entire_homes: string (nullable = true)\n",
      " |-- calculated_host_listings_count_private_rooms: string (nullable = true)\n",
      " |-- calculated_host_listings_count_shared_rooms: string (nullable = true)\n",
      " |-- reviews_per_month: string (nullable = true)\n",
      "\n"
     ]
    }
   ],
   "source": [
    "dfListings.printSchema()"
   ]
  },
  {
   "cell_type": "code",
   "execution_count": 5,
   "metadata": {
    "scrolled": false
   },
   "outputs": [
    {
     "data": {
      "text/plain": [
       "1330480"
      ]
     },
     "execution_count": 5,
     "metadata": {},
     "output_type": "execute_result"
    }
   ],
   "source": [
    "dfListings.count()"
   ]
  },
  {
   "cell_type": "code",
   "execution_count": 6,
   "metadata": {},
   "outputs": [
    {
     "name": "stdout",
     "output_type": "stream",
     "text": [
      "root\n",
      " |-- listing_id: string (nullable = true)\n",
      " |-- id: string (nullable = true)\n",
      " |-- date: string (nullable = true)\n",
      " |-- reviewer_id: string (nullable = true)\n",
      " |-- reviewer_name: string (nullable = true)\n",
      " |-- comments: string (nullable = true)\n",
      "\n"
     ]
    }
   ],
   "source": [
    "dfReviews.printSchema()"
   ]
  },
  {
   "cell_type": "code",
   "execution_count": 7,
   "metadata": {},
   "outputs": [
    {
     "data": {
      "text/plain": [
       "32297300"
      ]
     },
     "execution_count": 7,
     "metadata": {},
     "output_type": "execute_result"
    }
   ],
   "source": [
    "dfReviews.count()"
   ]
  },
  {
   "cell_type": "markdown",
   "metadata": {},
   "source": [
    "### Prepare the data for analysis\n",
    "You should prepare two dataframes to be used in the analysis part of the project. You should not be concerned with cleaning the data. There's a lot of it, so it will be sufficient to drop rows that have bad values. You may want to go back and refine this step at a later point when doing the analysis.\n",
    "\n",
    "You may also want to consider if you can stage your data so that subsequent processing is more efficient (this is not strictly necessary for Spark to run, but you may be able to decrease the time you sit around waiting for Spark to finish things)"
   ]
  },
  {
   "cell_type": "code",
   "execution_count": 5,
   "metadata": {},
   "outputs": [],
   "source": [
    "dfListings = dfListings.select('id', 'city', 'neighbourhood', 'price', 'property_type', 'review_scores_value')"
   ]
  },
  {
   "cell_type": "code",
   "execution_count": 6,
   "metadata": {},
   "outputs": [],
   "source": [
    "dfListings = dfListings.na.drop()"
   ]
  },
  {
   "cell_type": "code",
   "execution_count": 7,
   "metadata": {},
   "outputs": [],
   "source": [
    "def fixPrice(price):\n",
    "    price = price[1:].replace(',','')\n",
    "    return price"
   ]
  },
  {
   "cell_type": "code",
   "execution_count": 8,
   "metadata": {},
   "outputs": [],
   "source": [
    "fixPrice_udf = f.udf(fixPrice)"
   ]
  },
  {
   "cell_type": "code",
   "execution_count": 9,
   "metadata": {},
   "outputs": [],
   "source": [
    "dfListings = dfListings.withColumn('price', fixPrice_udf(f.col('price')).cast(\"float\"))"
   ]
  },
  {
   "cell_type": "code",
   "execution_count": 10,
   "metadata": {},
   "outputs": [],
   "source": [
    "dfListings = dfListings.withColumn('review_scores_value', f.col('review_scores_value').cast(\"float\"))"
   ]
  },
  {
   "cell_type": "code",
   "execution_count": 11,
   "metadata": {},
   "outputs": [],
   "source": [
    "dfReviews = dfReviews.na.drop()"
   ]
  },
  {
   "cell_type": "markdown",
   "metadata": {},
   "source": [
    "# Part 2: Analysis\n",
    "Use Spark and your favorite tool for data visualization to solve the following tasks.\n",
    "\n",
    "## The basics\n",
    "Compute and show a dataframe with the number of listings and neighbourhoods per city."
   ]
  },
  {
   "cell_type": "code",
   "execution_count": 15,
   "metadata": {
    "scrolled": true
   },
   "outputs": [
    {
     "name": "stdout",
     "output_type": "stream",
     "text": [
      "+----------------+---------+-----------------------------+\n",
      "|            city|count(id)|count(DISTINCT neighbourhood)|\n",
      "+----------------+---------+-----------------------------+\n",
      "|           Paris|    48068|                           63|\n",
      "|  Greater London|    33210|                          149|\n",
      "|          London|    25289|                          148|\n",
      "|     Los Angeles|    22252|                           95|\n",
      "|          Berlin|    19665|                           93|\n",
      "|            Roma|    18545|                           42|\n",
      "|         Toronto|    17857|                          140|\n",
      "|       København|    17383|                           21|\n",
      "|       Amsterdam|    16903|                           44|\n",
      "|        New York|    16075|                           90|\n",
      "|          Madrid|    15761|                           66|\n",
      "|       Barcelona|    15491|                           68|\n",
      "|        Brooklyn|    15117|                           51|\n",
      "|         Beijing|    14102|                           61|\n",
      "|        Montréal|    13474|                           43|\n",
      "|          Milano|    13438|                           24|\n",
      "|          Lisboa|    13210|                           48|\n",
      "|Ciudad de México|    10744|                           54|\n",
      "|       San Diego|    10312|                          107|\n",
      "|       Edinburgh|     9816|                           13|\n",
      "+----------------+---------+-----------------------------+\n",
      "only showing top 20 rows\n",
      "\n"
     ]
    }
   ],
   "source": [
    "dfListings.select('id', 'neighbourhood', 'city').groupBy('city').agg(f.count('id'),f.countDistinct('neighbourhood')).orderBy(f.desc('count(id)')).show()"
   ]
  },
  {
   "cell_type": "markdown",
   "metadata": {},
   "source": [
    "Based on the table above, you should choose a city that you want to continue your analysis for. The city should have mulitple neighbourhoods with listings in them.\n",
    "\n",
    "Compute and visualize the number of listings of different property types per neighbourhood in your city."
   ]
  },
  {
   "cell_type": "code",
   "execution_count": 18,
   "metadata": {},
   "outputs": [
    {
     "name": "stdout",
     "output_type": "stream",
     "text": [
      "+---------+-----------------------------+\n",
      "|count(id)|count(DISTINCT neighbourhood)|\n",
      "+---------+-----------------------------+\n",
      "|    17383|                           21|\n",
      "+---------+-----------------------------+\n",
      "\n"
     ]
    }
   ],
   "source": [
    "dfListings.select('id', 'neighbourhood', 'city').filter(f.col('city') == 'København').agg(f.count('id'),f.countDistinct('neighbourhood')).orderBy(f.desc('count(id)')).show()"
   ]
  },
  {
   "cell_type": "code",
   "execution_count": 20,
   "metadata": {},
   "outputs": [],
   "source": [
    "dfListingsCopenhagen = dfListings.filter(f.col('city') == 'København')"
   ]
  },
  {
   "cell_type": "code",
   "execution_count": 21,
   "metadata": {
    "scrolled": true
   },
   "outputs": [
    {
     "data": {
      "text/plain": [
       "['Indre By',\n",
       " 'Teglholmen',\n",
       " 'Amager Øst',\n",
       " 'Holmen',\n",
       " 'Kødbyen',\n",
       " 'Amager',\n",
       " 'Valby',\n",
       " 'Sluseholmen',\n",
       " 'Østerbro',\n",
       " 'Amagerbro',\n",
       " 'Brønshøj',\n",
       " 'Nørrebro',\n",
       " 'København NV',\n",
       " 'Nyboder',\n",
       " 'Frederiksberg',\n",
       " 'Vesterbro',\n",
       " 'Islands Brygge',\n",
       " 'Christiania',\n",
       " 'Amager Vest',\n",
       " 'Christianshavn',\n",
       " 'Vanløse']"
      ]
     },
     "execution_count": 21,
     "metadata": {},
     "output_type": "execute_result"
    }
   ],
   "source": [
    "dfListingsCopenhagen.select('neighbourhood').distinct().rdd.map(lambda r: r[0]).collect()"
   ]
  },
  {
   "cell_type": "code",
   "execution_count": 23,
   "metadata": {},
   "outputs": [],
   "source": [
    "dfListingsCopenhagenPropertyTypeCount = dfListingsCopenhagen.groupBy(\"property_type\").agg(f.count(\"id\"))"
   ]
  },
  {
   "cell_type": "code",
   "execution_count": 24,
   "metadata": {},
   "outputs": [],
   "source": [
    "x = [row[\"property_type\"] for row in dfListingsCopenhagenPropertyTypeCount.collect()]"
   ]
  },
  {
   "cell_type": "code",
   "execution_count": 25,
   "metadata": {},
   "outputs": [
    {
     "data": {
      "text/plain": [
       "['Apartment',\n",
       " 'Townhouse',\n",
       " 'Guest suite',\n",
       " 'Hut',\n",
       " 'Casa particular (Cuba)',\n",
       " 'Camper/RV',\n",
       " 'Boutique hotel',\n",
       " 'Loft',\n",
       " 'Guesthouse',\n",
       " 'Hostel',\n",
       " 'Villa',\n",
       " 'Other',\n",
       " 'Serviced apartment',\n",
       " 'Hotel',\n",
       " 'Cottage',\n",
       " 'Condominium',\n",
       " 'House',\n",
       " 'Island',\n",
       " 'Tent',\n",
       " 'Tiny house',\n",
       " 'Boat',\n",
       " 'Houseboat',\n",
       " 'Bungalow',\n",
       " 'Bed and breakfast',\n",
       " 'Cabin']"
      ]
     },
     "execution_count": 25,
     "metadata": {},
     "output_type": "execute_result"
    }
   ],
   "source": [
    "x"
   ]
  },
  {
   "cell_type": "code",
   "execution_count": 26,
   "metadata": {},
   "outputs": [],
   "source": [
    "y = [row[\"count(id)\"] for row in dfListingsCopenhagenPropertyTypeCount.collect()]"
   ]
  },
  {
   "cell_type": "code",
   "execution_count": 27,
   "metadata": {},
   "outputs": [
    {
     "data": {
      "text/plain": [
       "[14752,\n",
       " 355,\n",
       " 15,\n",
       " 2,\n",
       " 1,\n",
       " 2,\n",
       " 4,\n",
       " 153,\n",
       " 12,\n",
       " 19,\n",
       " 80,\n",
       " 9,\n",
       " 32,\n",
       " 3,\n",
       " 1,\n",
       " 1139,\n",
       " 733,\n",
       " 1,\n",
       " 2,\n",
       " 10,\n",
       " 12,\n",
       " 15,\n",
       " 12,\n",
       " 12,\n",
       " 7]"
      ]
     },
     "execution_count": 27,
     "metadata": {},
     "output_type": "execute_result"
    }
   ],
   "source": [
    "y"
   ]
  },
  {
   "cell_type": "code",
   "execution_count": 28,
   "metadata": {},
   "outputs": [
    {
     "data": {
      "image/png": "[encoded data removed]",
      "text/plain": [
       "<Figure size 864x432 with 1 Axes>"
      ]
     },
     "metadata": {
      "needs_background": "light"
     },
     "output_type": "display_data"
    }
   ],
   "source": [
    "import matplotlib.pyplot as plt\n",
    "import numpy as np\n",
    "\n",
    "y_pos = np.arange(len(x))\n",
    "\n",
    "plt.figure(figsize=(12, 6))\n",
    "plt.bar(y_pos, y, align='center')\n",
    "plt.xticks(y_pos, x,rotation=90)\n",
    "plt.ylabel('Count of listings')\n",
    "plt.title('Property type')\n",
    "\n",
    "\n",
    "plt.show()"
   ]
  },
  {
   "cell_type": "markdown",
   "metadata": {},
   "source": [
    "## Prices\n",
    "Compute the minimum, maximum and average listing price in your city. "
   ]
  },
  {
   "cell_type": "code",
   "execution_count": 29,
   "metadata": {},
   "outputs": [
    {
     "name": "stdout",
     "output_type": "stream",
     "text": [
      "+----------+----------+----------------+\n",
      "|min(price)|max(price)|      avg(price)|\n",
      "+----------+----------+----------------+\n",
      "|       0.0|   59999.0|804.069665765403|\n",
      "+----------+----------+----------------+\n",
      "\n"
     ]
    }
   ],
   "source": [
    "dfListingsCopenhagen.select(f.min('price'), f.max('price'), f.avg('price')).show()"
   ]
  },
  {
   "cell_type": "markdown",
   "metadata": {},
   "source": [
    "Compute and visualize the distribution of listing prices in your city."
   ]
  },
  {
   "cell_type": "markdown",
   "metadata": {},
   "source": [
    "We just filter the data by our city, clean up the price strings to a format that converts to a float and look at the distribution of the price"
   ]
  },
  {
   "cell_type": "code",
   "execution_count": 32,
   "metadata": {},
   "outputs": [],
   "source": [
    "df_pandas = dfListingsCopenhagen.select('price').toPandas()"
   ]
  },
  {
   "cell_type": "code",
   "execution_count": 33,
   "metadata": {
    "scrolled": true
   },
   "outputs": [
    {
     "data": {
      "image/png": "[encoded data removed]",
      "text/plain": [
       "<Figure size 432x288 with 1 Axes>"
      ]
     },
     "metadata": {
      "needs_background": "light"
     },
     "output_type": "display_data"
    }
   ],
   "source": [
    "ax = df_pandas.hist(column='price',bins=100)\n",
    "ax = ax[0]\n",
    "for x in ax:\n",
    "    x.set_title(\"Price distribution of AirBNB rentals in Copenhagen\")\n",
    "    x.set_xlabel(\"Price($)\", labelpad=20, size=12)\n",
    "    x.set_ylabel(\"Frequency\", labelpad=20, size=12)"
   ]
  },
  {
   "cell_type": "markdown",
   "metadata": {},
   "source": [
    "It can be seen that this distribution is very heavy-tailed having a maximum price of around 60000$. Let's try to cut of the 100 largest prices to focus in on the most dense part of the distribution."
   ]
  },
  {
   "cell_type": "code",
   "execution_count": 34,
   "metadata": {},
   "outputs": [
    {
     "data": {
      "image/png": "[encoded data removed]",
      "text/plain": [
       "<Figure size 432x288 with 1 Axes>"
      ]
     },
     "metadata": {
      "needs_background": "light"
     },
     "output_type": "display_data"
    }
   ],
   "source": [
    "df_pandas_red = df_pandas\n",
    "q = df_pandas['price'].nlargest(100)\n",
    "for elements in q.keys():\n",
    "    df_pandas_red = df_pandas_red.drop(elements)\n",
    "ax = df_pandas_red.hist(column='price',bins=50)\n",
    "\n",
    "ax = ax[0]\n",
    "for x in ax:\n",
    "    x.set_title(\"Truncated price distribution of AirBNB rentals in Copenhagen\")\n",
    "    x.set_xlabel(\"Price($)\", labelpad=20, size=12)\n",
    "    x.set_ylabel(\"Frequency\", labelpad=20, size=12)"
   ]
  },
  {
   "cell_type": "markdown",
   "metadata": {},
   "source": [
    "The value of a listing is its rating divided by its price.\n",
    "\n",
    "Compute and show a dataframe with the 3 highest valued listings in each neighbourhood."
   ]
  },
  {
   "cell_type": "code",
   "execution_count": 16,
   "metadata": {},
   "outputs": [
    {
     "name": "stdout",
     "output_type": "stream",
     "text": [
      "+--------------+-------+------------------------+\n",
      "| neighbourhood|  price|price_Rank_neighbourhood|\n",
      "+--------------+-------+------------------------+\n",
      "|        Amager|34801.0|                       1|\n",
      "|        Amager|16637.0|                       2|\n",
      "|        Amager| 4003.0|                       3|\n",
      "|   Amager Vest|10120.0|                       1|\n",
      "|   Amager Vest| 5562.0|                       2|\n",
      "|   Amager Vest| 4966.0|                       3|\n",
      "|    Amager Øst| 9001.0|                       1|\n",
      "|    Amager Øst| 3248.0|                       2|\n",
      "|    Amager Øst| 3201.0|                       3|\n",
      "|     Amagerbro| 2498.0|                       1|\n",
      "|     Amagerbro| 2001.0|                       2|\n",
      "|     Amagerbro| 1692.0|                       3|\n",
      "|      Brønshøj| 5000.0|                       1|\n",
      "|      Brønshøj| 3358.0|                       2|\n",
      "|      Brønshøj| 2989.0|                       3|\n",
      "|   Christiania|  751.0|                       1|\n",
      "|Christianshavn| 2771.0|                       1|\n",
      "|Christianshavn| 2500.0|                       2|\n",
      "|Christianshavn| 2457.0|                       3|\n",
      "| Frederiksberg| 1393.0|                       1|\n",
      "+--------------+-------+------------------------+\n",
      "only showing top 20 rows\n",
      "\n"
     ]
    }
   ],
   "source": [
    "sort_by_price_window = Window.partitionBy('neighbourhood').orderBy(f.desc('price'))\n",
    "ranked_df = dfListings.filter(f.col('city') == 'København').withColumn(\"price_Rank_neighbourhood\",f.rank().over(sort_by_price_window))\n",
    "ranked_df.filter(f.col(\"price_Rank_neighbourhood\")<=3).orderBy(\"neighbourhood\",f.desc(\"price\")).select(\"neighbourhood\",\"price\",\"price_Rank_neighbourhood\").show()"
   ]
  },
  {
   "cell_type": "markdown",
   "metadata": {},
   "source": [
    "## Trends\n",
    "Now we want to analyze the \"popularity\" of your city. The data does not contain the number of bookings per listing, but we have a large number of reviews, and we will assume that this is a good indicator of activity on listings."
   ]
  },
  {
   "cell_type": "markdown",
   "metadata": {},
   "source": [
    "Compute and visualize the popularity (i.e., number of reviews) of your city over time."
   ]
  },
  {
   "cell_type": "code",
   "execution_count": 35,
   "metadata": {},
   "outputs": [],
   "source": [
    "dfListingsCopenhagenWithReviews = dfReviews.selectExpr(\"listing_id\",\"id as review_id\", \"comments\", \"date\").join(dfListingsCopenhagen, dfReviews.listing_id == dfListingsCopenhagen.id)"
   ]
  },
  {
   "cell_type": "code",
   "execution_count": 36,
   "metadata": {},
   "outputs": [],
   "source": [
    "a = dfListingsCopenhagenWithReviews.groupBy(f.year(f.col(\"date\"))).agg(f.count(\"id\")).take(100)"
   ]
  },
  {
   "cell_type": "code",
   "execution_count": 37,
   "metadata": {},
   "outputs": [],
   "source": [
    "b = [i.asDict() for i in a]"
   ]
  },
  {
   "cell_type": "code",
   "execution_count": 38,
   "metadata": {},
   "outputs": [],
   "source": [
    "for i in b:\n",
    "    i[\"year(date)\"] = int(i[\"year(date)\"])"
   ]
  },
  {
   "cell_type": "code",
   "execution_count": 39,
   "metadata": {},
   "outputs": [],
   "source": [
    "b = sorted(b, key=lambda x: x[\"year(date)\"])"
   ]
  },
  {
   "cell_type": "code",
   "execution_count": 40,
   "metadata": {},
   "outputs": [],
   "source": [
    "x_values = [i[\"year(date)\"] for i in b]"
   ]
  },
  {
   "cell_type": "code",
   "execution_count": 41,
   "metadata": {},
   "outputs": [],
   "source": [
    "y_values = [i[\"count(id)\"] for i in b]"
   ]
  },
  {
   "cell_type": "code",
   "execution_count": 42,
   "metadata": {},
   "outputs": [
    {
     "data": {
      "image/png": "[encoded data removed]",
      "text/plain": [
       "<Figure size 864x432 with 1 Axes>"
      ]
     },
     "metadata": {
      "needs_background": "light"
     },
     "output_type": "display_data"
    }
   ],
   "source": [
    "y_pos = np.arange(len(x_values))\n",
    "\n",
    "plt.figure(figsize=(12, 6))\n",
    "plt.bar(y_pos, y_values, align='center')\n",
    "plt.xticks(y_pos, x_values,rotation=90)\n",
    "plt.ylabel('Popularity')\n",
    "plt.title('Popularity of Copenhagen')\n",
    "\n",
    "plt.show()"
   ]
  },
  {
   "cell_type": "markdown",
   "metadata": {},
   "source": [
    "Compute and visualize the popularity of neighbourhoods over time. If there are many neighbourhoods in your city, you should select a few interesting ones for comparison."
   ]
  },
  {
   "cell_type": "code",
   "execution_count": 43,
   "metadata": {},
   "outputs": [],
   "source": [
    "df_join = dfListingsCopenhagen.join(dfReviews,dfListingsCopenhagen.id == dfReviews.listing_id).select('neighbourhood','date')"
   ]
  },
  {
   "cell_type": "code",
   "execution_count": 44,
   "metadata": {},
   "outputs": [],
   "source": [
    "def ymd_to_ym(string):\n",
    "    return datetime.datetime.strptime(string[0:7],'%Y-%m')\n",
    "convert_date = udf(ymd_to_ym,DateType())"
   ]
  },
  {
   "cell_type": "code",
   "execution_count": 45,
   "metadata": {
    "scrolled": true
   },
   "outputs": [],
   "source": [
    "df_join = df_join.withColumn(\"date_mod\",convert_date('date'))"
   ]
  },
  {
   "cell_type": "code",
   "execution_count": 46,
   "metadata": {
    "scrolled": true
   },
   "outputs": [
    {
     "name": "stdout",
     "output_type": "stream",
     "text": [
      "+--------------+---------------+\n",
      "| neighbourhood|count(date_mod)|\n",
      "+--------------+---------------+\n",
      "|      Indre By|          55165|\n",
      "|    Teglholmen|            694|\n",
      "|    Amager Øst|           7640|\n",
      "|        Holmen|             46|\n",
      "|       Kødbyen|            534|\n",
      "|        Amager|          21984|\n",
      "|         Valby|           9139|\n",
      "|   Sluseholmen|            296|\n",
      "|      Østerbro|          25525|\n",
      "|     Amagerbro|           1746|\n",
      "|      Brønshøj|           4302|\n",
      "|      Nørrebro|          50415|\n",
      "|  København NV|          10250|\n",
      "|       Nyboder|            549|\n",
      "| Frederiksberg|            377|\n",
      "|     Vesterbro|          46712|\n",
      "|Islands Brygge|           2659|\n",
      "|   Christiania|              3|\n",
      "|   Amager Vest|          10106|\n",
      "|Christianshavn|           2941|\n",
      "+--------------+---------------+\n",
      "only showing top 20 rows\n",
      "\n"
     ]
    }
   ],
   "source": [
    "df_join.select('neighbourhood','date_mod').groupBy('neighbourhood').agg(f.count('date_mod')).show()"
   ]
  },
  {
   "cell_type": "code",
   "execution_count": 47,
   "metadata": {},
   "outputs": [],
   "source": [
    "def pandas_neighbourhood_trend(neighbourhood):\n",
    "    return df_join.filter(f.col('neighbourhood') == neighbourhood).groupBy('date_mod').agg(f.count('date_mod')).orderBy('date_mod',ascending=True).toPandas()"
   ]
  },
  {
   "cell_type": "markdown",
   "metadata": {},
   "source": [
    "We take a look at some of the different neighbourhoods of Copenhagen. It is clear that the popularity of airbnb is increasing over time. Furthermore a (strong!) seasonal component can be seen. Do note that the above code could have used a filter claused using an OR(|) statement to get all the neighbourhoods in one go. "
   ]
  },
  {
   "cell_type": "code",
   "execution_count": 48,
   "metadata": {},
   "outputs": [],
   "source": [
    "pd_nørrebro = pandas_neighbourhood_trend('Nørrebro')\n",
    "pd_vesterbro = pandas_neighbourhood_trend('Vesterbro')\n",
    "pd_amagervest= pandas_neighbourhood_trend('Amager Vest')\n",
    "pd_indreby = pandas_neighbourhood_trend('Indre By')"
   ]
  },
  {
   "cell_type": "code",
   "execution_count": 49,
   "metadata": {
    "scrolled": false
   },
   "outputs": [
    {
     "data": {
      "text/plain": [
       "Text(0.5, 1.0, 'Amager Vest')"
      ]
     },
     "execution_count": 49,
     "metadata": {},
     "output_type": "execute_result"
    },
    {
     "data": {
      "image/png": "[encoded data removed]",
      "text/plain": [
       "<Figure size 720x720 with 4 Axes>"
      ]
     },
     "metadata": {
      "needs_background": "light"
     },
     "output_type": "display_data"
    }
   ],
   "source": [
    "#pd_nørrebro = pandas_neighbourhood_trend('Nørrebro')\n",
    "fig, axs = plt.subplots(2, 2, constrained_layout=True,figsize=(10,10))\n",
    "axs[0,0].plot(pd_nørrebro['date_mod'],pd_nørrebro['count(date_mod)'])\n",
    "axs[0,0].set_xlabel('Date')\n",
    "axs[0,0].set_ylabel('Popularity')\n",
    "axs[0,0].set_title('Nørrebro')\n",
    "\n",
    "axs[0,1].plot(pd_vesterbro['date_mod'],pd_vesterbro['count(date_mod)'])\n",
    "axs[0,1].set_xlabel('Date')\n",
    "axs[0,1].set_ylabel('Popularity')\n",
    "axs[0,1].set_title('Vesterbro')\n",
    "\n",
    "axs[1,0].plot(pd_indreby['date_mod'],pd_indreby['count(date_mod)'])\n",
    "axs[1,0].set_xlabel('Date')\n",
    "axs[1,0].set_ylabel('Popularity')\n",
    "axs[1,0].set_title('Indre by')\n",
    "\n",
    "axs[1,1].plot(pd_amagervest['date_mod'],pd_amagervest['count(date_mod)'])\n",
    "axs[1,1].set_xlabel('Date')\n",
    "axs[1,1].set_ylabel('Popularity')\n",
    "axs[1,1].set_title('Amager Vest')"
   ]
  },
  {
   "cell_type": "markdown",
   "metadata": {},
   "source": [
    "Compute and visualize the popularity of your city by season. For example, visualize the popularity of your city per month."
   ]
  },
  {
   "cell_type": "code",
   "execution_count": 17,
   "metadata": {},
   "outputs": [],
   "source": [
    "def extract_month(date):\n",
    "    return float(datetime.datetime.strptime(date[0:7],'%Y-%m').month)\n",
    "extract_month_udf = udf(extract_month,FloatType())"
   ]
  },
  {
   "cell_type": "code",
   "execution_count": 18,
   "metadata": {},
   "outputs": [],
   "source": [
    "df_list_rev = dfListings.join(dfReviews,dfListings.id == dfReviews.listing_id).select('city','date')\n",
    "df_list_rev = df_list_rev.withColumn(\"month\",extract_month_udf('date'))"
   ]
  },
  {
   "cell_type": "code",
   "execution_count": 19,
   "metadata": {},
   "outputs": [],
   "source": [
    "import matplotlib.pyplot as plt\n",
    "def monthly_trend_city(city,df):\n",
    "    pd_city = df.filter(f.col('city') == city).groupBy('month').agg(f.count('month').alias(\"popularity\")).toPandas()\n",
    "    pd_city = pd_city.sort_values(by=['month'])\n",
    "    plt.bar(pd_city['month'],pd_city['popularity'])\n",
    "    plt.xlabel(\"month\")\n",
    "    plt.ylabel(\"popularity\")\n",
    "    plt.title(city)\n",
    "    return pd_city"
   ]
  },
  {
   "cell_type": "code",
   "execution_count": 20,
   "metadata": {},
   "outputs": [
    {
     "data": {
      "image/png": "[encoded data removed]",
      "text/plain": [
       "<Figure size 432x288 with 1 Axes>"
      ]
     },
     "metadata": {
      "needs_background": "light"
     },
     "output_type": "display_data"
    }
   ],
   "source": [
    "pd_city = monthly_trend_city(\"København\",df_list_rev)"
   ]
  },
  {
   "cell_type": "markdown",
   "metadata": {},
   "source": [
    "As seen from the above part we clearly see that there is a strong seasonal depencies. from above figure we see that there is high bokking of Airbnb during the 8th month i.e August in copenhagen"
   ]
  },
  {
   "cell_type": "markdown",
   "metadata": {},
   "source": [
    "## Reviews\n",
    "In this part you should determine which words used in reviews that are the most positive. \n",
    "\n",
    "The individual reviews do not have a rating of the listing, so we will assume that each review gave the average rating to the listing, i.e., the one on the listing.\n",
    "\n",
    "You should assign a positivity weight to each word seen in reviews and list the words with the highest weight. It is up to you to decide what the weight should be. For example, it can be a function of the rating on the listing on which it occurs, the number of reviews it occurs in, and the number of unique listings for which it was used to review.\n",
    "\n",
    "Depending on your choice of weight function, you may also want to do some filtering of words. For example, remove words that only occur in a few reviews."
   ]
  },
  {
   "cell_type": "markdown",
   "metadata": {},
   "source": [
    "In order to find the popularity of words we only need two columns from the Listings dataframe. One is the id to join it with the Reviews dataframe and the review score of the listing."
   ]
  },
  {
   "cell_type": "code",
   "execution_count": 73,
   "metadata": {},
   "outputs": [],
   "source": [
    "dfListingReviewScores = dfListings.selectExpr(\"id as idOfListing\", \"review_scores_value\")"
   ]
  },
  {
   "cell_type": "markdown",
   "metadata": {},
   "source": [
    "During development we used a sample of the reviews dataframe."
   ]
  },
  {
   "cell_type": "code",
   "execution_count": 67,
   "metadata": {},
   "outputs": [],
   "source": [
    "dfReviewsSample = dfReviews.sample(True,0.03)"
   ]
  },
  {
   "cell_type": "markdown",
   "metadata": {},
   "source": [
    "From the reviews dataframe we only need the id of the corresponding listing for the join and the text of the review."
   ]
  },
  {
   "cell_type": "code",
   "execution_count": 68,
   "metadata": {},
   "outputs": [],
   "source": [
    "dfReviewsSample = dfReviewsSample.select(\"listing_id\", \"comments\")"
   ]
  },
  {
   "cell_type": "markdown",
   "metadata": {},
   "source": [
    "We split the text of the review on spaces and create a list of words instead of one text."
   ]
  },
  {
   "cell_type": "code",
   "execution_count": 69,
   "metadata": {},
   "outputs": [],
   "source": [
    "dfReviewsSample = dfReviewsSample.withColumn(\"comments\", f.split(f.col(\"comments\"), \" \"))"
   ]
  },
  {
   "cell_type": "markdown",
   "metadata": {},
   "source": [
    "With the explode function we create a new row for each words."
   ]
  },
  {
   "cell_type": "code",
   "execution_count": 70,
   "metadata": {},
   "outputs": [],
   "source": [
    "dfReviewsSample = dfReviewsSample.withColumn(\"word\", f.explode(\"comments\"))"
   ]
  },
  {
   "cell_type": "markdown",
   "metadata": {},
   "source": [
    "From this point we only need the id of the listing and the word fields from the reviews dataframe."
   ]
  },
  {
   "cell_type": "code",
   "execution_count": 71,
   "metadata": {},
   "outputs": [],
   "source": [
    "dfReviewsSample = dfReviewsSample.select(\"listing_id\",\"word\")"
   ]
  },
  {
   "cell_type": "markdown",
   "metadata": {},
   "source": [
    "Next we join the listings and reviews tables on the listing id column with an inner-join. We drop one of the duplicated listing id field."
   ]
  },
  {
   "cell_type": "code",
   "execution_count": 75,
   "metadata": {},
   "outputs": [],
   "source": [
    "dfWords = dfListingReviewScores.join(dfReviewsSample, dfReviewsSample.listing_id == dfListingReviewScores.idOfListing).drop(\"idOfListing\")"
   ]
  },
  {
   "cell_type": "markdown",
   "metadata": {},
   "source": [
    "We construct a function to make the words lowercase and remove punctuation marks from them."
   ]
  },
  {
   "cell_type": "code",
   "execution_count": 76,
   "metadata": {},
   "outputs": [],
   "source": [
    "import string\n",
    "\n",
    "def convertWord(word):\n",
    "    word = word.translate(str.maketrans('', '', string.punctuation))\n",
    "    word = word.lower()\n",
    "    return word"
   ]
  },
  {
   "cell_type": "code",
   "execution_count": 77,
   "metadata": {},
   "outputs": [],
   "source": [
    "convertWord_udf = f.udf(convertWord)"
   ]
  },
  {
   "cell_type": "markdown",
   "metadata": {},
   "source": [
    "We apply the function on the word column."
   ]
  },
  {
   "cell_type": "code",
   "execution_count": 79,
   "metadata": {},
   "outputs": [],
   "source": [
    "dfWords = dfWords.withColumn('word', convertWord_udf(f.col('word')))"
   ]
  },
  {
   "cell_type": "markdown",
   "metadata": {},
   "source": [
    "In order to find a weight function for the words we group our dataframe by the word column and aggregate two columns, the average of the review score and the count of the occurances of the word."
   ]
  },
  {
   "cell_type": "code",
   "execution_count": 81,
   "metadata": {},
   "outputs": [],
   "source": [
    "dfWords = dfWords.groupBy(\"word\").agg(f.avg(\"review_scores_value\"), f.count(\"review_scores_value\"))"
   ]
  },
  {
   "cell_type": "markdown",
   "metadata": {},
   "source": [
    "We can now drop the rows where the count of the occurances of the word is too low. We decided to drop the rows where this count is < 100000"
   ]
  },
  {
   "cell_type": "code",
   "execution_count": 82,
   "metadata": {},
   "outputs": [],
   "source": [
    "dfWords = dfWords.filter(f.col(\"count(review_scores_value)\") > 10000)"
   ]
  },
  {
   "cell_type": "markdown",
   "metadata": {},
   "source": [
    "We sort the dataframe based on the average review score in descending order."
   ]
  },
  {
   "cell_type": "code",
   "execution_count": 84,
   "metadata": {},
   "outputs": [],
   "source": [
    "dfWords = dfWords.sort(f.desc(\"avg(review_scores_value)\"))"
   ]
  },
  {
   "cell_type": "markdown",
   "metadata": {},
   "source": [
    "By calling show() on the dataframe we can see the top 20 rows."
   ]
  },
  {
   "cell_type": "code",
   "execution_count": 85,
   "metadata": {},
   "outputs": [
    {
     "name": "stdout",
     "output_type": "stream",
     "text": [
      "+---------------+------------------------+--------------------------+\n",
      "|           word|avg(review_scores_value)|count(review_scores_value)|\n",
      "+---------------+------------------------+--------------------------+\n",
      "|           home|       9.658807379583955|                     66291|\n",
      "|recommendations|       9.647175959449674|                     11048|\n",
      "|          their|       9.646753501126236|                     20422|\n",
      "|           ever|       9.640525104424174|                     11731|\n",
      "|      decorated|       9.636424731182796|                     11904|\n",
      "|      welcoming|       9.630861723446893|                     22455|\n",
      "|          hosts|       9.629367905630982|                     35944|\n",
      "|           tips|       9.627964022894522|                     15899|\n",
      "|      beautiful|       9.626666666666667|                     52500|\n",
      "|      breakfast|       9.626160550748438|                     15833|\n",
      "|        private|       9.623296820732033|                     14972|\n",
      "|      wonderful|       9.623085597129677|                     48775|\n",
      "|        welcome|       9.614440962730848|                     14999|\n",
      "|         highly|       9.612073675173653|                     51252|\n",
      "|     absolutely|       9.610462191918627|                     17893|\n",
      "|            her|        9.60529009615033|                     54706|\n",
      "|           such|       9.602011045118266|                     19194|\n",
      "|         coffee|       9.600945560080513|                     21363|\n",
      "|        stylish|       9.599857040743387|                     13990|\n",
      "|           feel|       9.599735508044963|                     27222|\n",
      "+---------------+------------------------+--------------------------+\n",
      "only showing top 20 rows\n",
      "\n"
     ]
    }
   ],
   "source": [
    "dfWords.show()"
   ]
  }
 ],
 "metadata": {
  "kernelspec": {
   "display_name": "Python 3",
   "language": "python",
   "name": "python3"
  },
  "language_info": {
   "codemirror_mode": {
    "name": "ipython",
    "version": 3
   },
   "file_extension": ".py",
   "mimetype": "text/x-python",
   "name": "python",
   "nbconvert_exporter": "python",
   "pygments_lexer": "ipython3",
   "version": "3.7.3"
  }
 },
 "nbformat": 4,
 "nbformat_minor": 2
}
