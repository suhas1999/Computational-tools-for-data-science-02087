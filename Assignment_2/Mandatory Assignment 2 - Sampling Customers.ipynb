{
 "cells": [
  {
   "cell_type": "markdown",
   "metadata": {},
   "source": [
    "# Mandatory Assignment 2: Sampling Customers\n",
    "\n",
    "**This is the second of three mandatory assignments to be handed in as part of the assessment for the course 02807 Computational Tools for Data Science at Technical University of Denmark, autumn 2019.**\n",
    "\n",
    "#### Practical info\n",
    "- **The assignment is to be done individually. You are under no circumstances allowed to collaborate with anyone on solving the exercises (cf. the full policy on this on the course website)**\n",
    "- **You must hand in one Jupyter notebook (this notebook) with your solution**\n",
    "- **The hand-in of the notebook is due 2019-11-10, 23:59 on DTU Inside**\n",
    "\n",
    "#### Your solution\n",
    "- **Your solution should be in Python**\n",
    "- **You may use more cells than the provided ones for your answers**\n",
    "- **You should not remove the problem statements**\n",
    "- **Your notebook should be runnable, i.e., clicking [>>] in Jupyter should generate the result that you want to be assessed**"
   ]
  },
  {
   "cell_type": "markdown",
   "metadata": {},
   "source": [
    "---\n",
    "## Introduction\n",
    "When computing group aggregates from a sample, simple random sampling does not give good results. Instead, a representative sample can be obtained by storing each record seen from a sample of the elements we group by. \n",
    "\n",
    "In this assignment you should implement this sampling method on a stream of customer spendings.\n",
    "\n",
    "### Example\n",
    "Suppose you are sampling from a stream of customer spendings. Each element of the stream consists of a customer ID and an amount. For example:\n",
    "\n",
    "`123e4567-e89b-12d3-a456-426655440000 29.99`\n",
    "\n",
    "To obtain a representative sample, you should sample some customer IDs and make sure that every occurrence of the sampled customer IDs are in your final sample. For example, if the customer ID `123e4567-e89b-12d3-a456-426655440000` is among the sampled customer IDs, every element with this ID should be in your sample. "
   ]
  },
  {
   "cell_type": "markdown",
   "metadata": {},
   "source": [
    "## Reading the stream\n",
    "The following code reads a remote file line by line. It is wrapped in a generator to make it easier to extend. You should design your algorithm to read from the generator as a stream. You may extend or modify this to fit your requirements."
   ]
  },
  {
   "cell_type": "code",
   "execution_count": 2,
   "metadata": {},
   "outputs": [],
   "source": [
    "import urllib\n",
    "\n",
    "def stream(n):\n",
    "    i=0\n",
    "    with urllib.request.urlopen('https://files.dtu.dk/fss/public/link/public/stream/read/spending?linkToken=wkMPLdtDDyvQQw8o&itemName=spending') as f:\n",
    "        for line in f:\n",
    "            element = line.rstrip().decode(\"utf-8\")\n",
    "            yield element\n",
    "            i = i+1\n",
    "            if i==n:\n",
    "                break"
   ]
  },
  {
   "cell_type": "code",
   "execution_count": 3,
   "metadata": {},
   "outputs": [],
   "source": [
    "import numpy as np"
   ]
  },
  {
   "cell_type": "code",
   "execution_count": 51,
   "metadata": {},
   "outputs": [],
   "source": [
    "STREAM_SIZE = 100000\n",
    "customer_stream = stream(STREAM_SIZE)"
   ]
  },
  {
   "cell_type": "markdown",
   "metadata": {},
   "source": [
    "## Exercise 1\n",
    "Implement an algorithm that computes a sample from the stream. The sample must be representative of customers, i.e., you should be able to answer group aggregate questions from it.\n",
    "\n",
    "The sample size should be approximately 10% of the number of elements read from the stream.\n",
    "\n",
    "It is important that your algorithm is a streaming algorithm. This means that your algorithm should update the sample every time an element from the stream is processed, and you should also only process the stream once.\n",
    "\n",
    "### Hints\n",
    "Hint 1: Since simple random sampling is not a good idea, you should not use the reservoir sampling algorithm.\n",
    "\n",
    "Hint 2: The sample does not have to be exactly $k$ elements.\n",
    "\n",
    "Hint 3: You should use a hash function and the fact that it can be used to uniformly map elements from a large universe to a smaller domain. Murmurhash3 (`mmh3`) is a suitable hash function from strings to integers for this."
   ]
  },
  {
   "cell_type": "code",
   "execution_count": 28,
   "metadata": {},
   "outputs": [],
   "source": [
    "user_dictionary = {}\n",
    "import mmh3\n",
    "for i,l in enumerate(customer_stream):\n",
    "    if l.split()[0] in user_dictionary.keys():\n",
    "        user_dictionary[l.split()[0]].append(l.split()[1])\n",
    "    else:\n",
    "        hash_number = mmh3.hash(l.split()[0],seed = 42)\n",
    "        if hash_number%10 ==1:\n",
    "            user_dictionary[l.split()[0]] = [l.split()[1]]\n",
    "\n"
   ]
  },
  {
   "cell_type": "markdown",
   "metadata": {},
   "source": [
    "## Exercise 2\n",
    "Use the sample obtained in the previous exercise to answer the following question.\n",
    "\n",
    "- What is the average spending per customer?"
   ]
  },
  {
   "cell_type": "code",
   "execution_count": 29,
   "metadata": {},
   "outputs": [
    {
     "name": "stdout",
     "output_type": "stream",
     "text": [
      "Average total spending per customer is 14113.42208955224\n"
     ]
    }
   ],
   "source": [
    "total = 0\n",
    "num = 0\n",
    "for l in user_dictionary.keys():\n",
    "    #num = num + len(user_dictionary[l])\n",
    "    temp = list(map(float,user_dictionary[l] ))\n",
    "    total = total +  sum(temp)\n",
    "predicted_avg = total/len(list(user_dictionary.keys()))\n",
    "print(\"Average total spending per customer is \"+str(total/len(list(user_dictionary.keys()))))\n",
    "    "
   ]
  },
  {
   "cell_type": "markdown",
   "metadata": {},
   "source": [
    "## Errror from true value"
   ]
  },
  {
   "cell_type": "code",
   "execution_count": 30,
   "metadata": {},
   "outputs": [],
   "source": [
    "true_dict = {}\n",
    "customer_stream = stream(STREAM_SIZE)\n",
    "for i,l in enumerate(customer_stream):\n",
    "    if l.split()[0] in true_dict:\n",
    "        true_dict[l.split()[0]].append(float(l.split()[1]))\n",
    "    else:\n",
    "        true_dict[l.split()[0]] = [float(l.split()[1])]"
   ]
  },
  {
   "cell_type": "code",
   "execution_count": 31,
   "metadata": {},
   "outputs": [
    {
     "name": "stdout",
     "output_type": "stream",
     "text": [
      "Average total true spending per customer is 13678.283997271494\n"
     ]
    }
   ],
   "source": [
    "total = 0\n",
    "num = 0\n",
    "for l in true_dict.keys():\n",
    "    #num = num + len(user_dictionary[l])\n",
    "    temp = list(map(float,true_dict[l] ))\n",
    "    total = total +  sum(temp)\n",
    "true_avg = total/len(list(true_dict.keys()))\n",
    "print(\"Average total true spending per customer is \"+str(total/len(list(true_dict.keys()))))"
   ]
  },
  {
   "cell_type": "code",
   "execution_count": 37,
   "metadata": {},
   "outputs": [
    {
     "name": "stdout",
     "output_type": "stream",
     "text": [
      "Error in prediction when used user representative sample :3.181233057944592\n"
     ]
    }
   ],
   "source": [
    "print(\"Error in prediction when used user representative sample :{}\".format(100*abs((predicted_avg-true_avg)/(true_avg))))"
   ]
  },
  {
   "cell_type": "markdown",
   "metadata": {},
   "source": [
    "#### Distribution of total spendings of each customer in the sample using Representative sampling"
   ]
  },
  {
   "cell_type": "code",
   "execution_count": 41,
   "metadata": {},
   "outputs": [
    {
     "data": {
      "image/png": "[encoded data removed]",
      "text/plain": [
       "<Figure size 432x288 with 1 Axes>"
      ]
     },
     "metadata": {
      "needs_background": "light"
     },
     "output_type": "display_data"
    }
   ],
   "source": [
    "new_user_dict = {}\n",
    "for l in user_dictionary.keys():\n",
    "    temp = list(map(float,user_dictionary[l] ))\n",
    "    no_of_transac = len(temp)\n",
    "    new_user_dict[l] = sum(temp)\n",
    "\n",
    "import matplotlib.pyplot as plt\n",
    "plt.plot(*zip(*new_user_dict.items()),\".\")\n",
    "plt.show()\n"
   ]
  },
  {
   "cell_type": "markdown",
   "metadata": {},
   "source": [
    "## Exercise 3\n",
    "Explain why simple random sampling would not give as good an answer to the question in exercise 2 as your new algorithm does.\n",
    "\n",
    "Hint: Look at the distribution of amounts for some customer in your sample."
   ]
  },
  {
   "cell_type": "markdown",
   "metadata": {},
   "source": [
    "#### Random sampling Implementaion"
   ]
  },
  {
   "cell_type": "code",
   "execution_count": 61,
   "metadata": {},
   "outputs": [],
   "source": [
    "customer_stream = stream(STREAM_SIZE)"
   ]
  },
  {
   "cell_type": "code",
   "execution_count": 62,
   "metadata": {},
   "outputs": [],
   "source": [
    "import random\n",
    "user_list = {}\n",
    "#random sampling\n",
    "for i,l in enumerate(customer_stream):\n",
    "    if random.randint(0,10) == 0:\n",
    "        if l.split()[0] in user_list.keys():\n",
    "            user_list[l.split()[0]].append(float(l.split()[1]))\n",
    "        else:\n",
    "            user_list[l.split()[0]] = [float(l.split()[1])]"
   ]
  },
  {
   "cell_type": "code",
   "execution_count": 63,
   "metadata": {},
   "outputs": [],
   "source": [
    "new_user_list = {}\n",
    "for l in user_list.keys():\n",
    "    #temp = list(map(float,user_dictionary[l] ))\n",
    "    #no_of_transac = len(temp)\n",
    "    new_user_list[l] = sum(user_list[l])"
   ]
  },
  {
   "cell_type": "markdown",
   "metadata": {},
   "source": [
    "#### Plot of Distribution of each user spending from Random Sampling"
   ]
  },
  {
   "cell_type": "code",
   "execution_count": 64,
   "metadata": {},
   "outputs": [
    {
     "data": {
      "image/png": "[encoded data removed]",
      "text/plain": [
       "<Figure size 432x288 with 1 Axes>"
      ]
     },
     "metadata": {
      "needs_background": "light"
     },
     "output_type": "display_data"
    }
   ],
   "source": [
    "import matplotlib.pyplot as plt\n",
    "\n",
    "plt.plot(*zip(*new_user_list.items()),\".\")\n",
    "plt.show()"
   ]
  },
  {
   "cell_type": "code",
   "execution_count": 65,
   "metadata": {},
   "outputs": [
    {
     "name": "stdout",
     "output_type": "stream",
     "text": [
      "1234.1933424283764\n"
     ]
    }
   ],
   "source": [
    "num =0\n",
    "total = 0\n",
    "for l in user_list.keys():\n",
    "    num = num + len(user_list[l])\n",
    "    temp = len(user_list[l])\n",
    "    #temp2 = list(map(float,user_dictionary[l] ))\n",
    "    total = total +  sum(user_list[l])\n",
    "print(total/len(list(user_list.keys())))"
   ]
  },
  {
   "cell_type": "code",
   "execution_count": 57,
   "metadata": {},
   "outputs": [
    {
     "name": "stdout",
     "output_type": "stream",
     "text": [
      "Error in prediction when used random sample :90.7013657422903\n"
     ]
    }
   ],
   "source": [
    "print(\"Error in prediction when used random sample :{}\".format(100*abs((random_avg-true_avg)/(true_avg))))"
   ]
  },
  {
   "cell_type": "markdown",
   "metadata": {},
   "source": [
    "#### Random Sampling vs Algorithm in 2"
   ]
  },
  {
   "cell_type": "markdown",
   "metadata": {},
   "source": [
    "Average total spending per customer is $\\frac{\\Sigma(spendings)}{\\Sigma No. of Users}$"
   ]
  },
  {
   "cell_type": "markdown",
   "metadata": {},
   "source": [
    "We need to calculate the average total spending of a customer. Here we need to store 10% of data. So,clearly we need the 10% data which is implicated to have information of 10% users which useful to calculate total spending per customer. If we randomly sample the data we are colecting 10% data which would help to calculate average spending per transaction irrespective of the user.So,This is why representative sampling using users is better than that of random sampling. Also the variance obtained using user represetative sample is from the difference in the spendings(which is real variance) but the variance obtained through random sampling is due to not collecting sufficient data w.r.t to single user. Hence User representative sampling is better algorithm than random sampling"
   ]
  },
  {
   "cell_type": "code",
   "execution_count": 76,
   "metadata": {},
   "outputs": [
    {
     "data": {
      "text/plain": [
       "(array([ 1.,  3.,  4., 14., 21., 17., 30., 32., 51., 65., 52., 64., 74.,\n",
       "        60., 54., 58., 26., 25., 22., 22.,  9.,  7.,  7.,  4.,  3.,  1.,\n",
       "         4.,  0.,  0.,  3.]),\n",
       " array([ 8243.38      ,  8578.95466667,  8914.52933333,  9250.104     ,\n",
       "         9585.67866667,  9921.25333333, 10256.828     , 10592.40266667,\n",
       "        10927.97733333, 11263.552     , 11599.12666667, 11934.70133333,\n",
       "        12270.276     , 12605.85066667, 12941.42533333, 13277.        ,\n",
       "        13612.57466667, 13948.14933333, 14283.724     , 14619.29866667,\n",
       "        14954.87333333, 15290.448     , 15626.02266667, 15961.59733333,\n",
       "        16297.172     , 16632.74666667, 16968.32133333, 17303.896     ,\n",
       "        17639.47066667, 17975.04533333, 18310.62      ]),\n",
       " <a list of 30 Patch objects>)"
      ]
     },
     "execution_count": 76,
     "metadata": {},
     "output_type": "execute_result"
    },
    {
     "data": {
      "image/png": "[encoded data removed]",
      "text/plain": [
       "<Figure size 432x288 with 1 Axes>"
      ]
     },
     "metadata": {
      "needs_background": "light"
     },
     "output_type": "display_data"
    }
   ],
   "source": [
    "\n",
    "plt.hist(np.array(list(new_user_list.values())),bins=30)"
   ]
  },
  {
   "cell_type": "markdown",
   "metadata": {},
   "source": [
    "In the above we could see that distribution is heavily tailed.Hence random sampling from a heavily tailed distribution would not give a better result."
   ]
  },
  {
   "cell_type": "code",
   "execution_count": 75,
   "metadata": {},
   "outputs": [
    {
     "data": {
      "text/plain": [
       "(array([ 0.,  0.,  0.,  1.,  0.,  6.,  4.,  7., 13., 12., 13.,  4.,  5.,\n",
       "         2.,  0.,  0.,  0.,  0.,  0.,  0.,  0.,  0.,  0.,  0.,  0.,  0.,\n",
       "         0.,  0.,  0.,  0.]),\n",
       " array([120000., 122000., 124000., 126000., 128000., 130000., 132000.,\n",
       "        134000., 136000., 138000., 140000., 142000., 144000., 146000.,\n",
       "        148000., 150000., 152000., 154000., 156000., 158000., 160000.,\n",
       "        162000., 164000., 166000., 168000., 170000., 172000., 174000.,\n",
       "        176000., 178000., 180000.]),\n",
       " <a list of 30 Patch objects>)"
      ]
     },
     "execution_count": 75,
     "metadata": {},
     "output_type": "execute_result"
    },
    {
     "data": {
      "image/png": "[encoded data removed]",
      "text/plain": [
       "<Figure size 432x288 with 1 Axes>"
      ]
     },
     "metadata": {
      "needs_background": "light"
     },
     "output_type": "display_data"
    }
   ],
   "source": [
    "import matplotlib.pyplot as plt\n",
    "\n",
    "plt.hist(np.array(list(new_user_dict.values())),bins=30,range=(120000,180000))"
   ]
  },
  {
   "cell_type": "markdown",
   "metadata": {},
   "source": [
    "Distribution from user representative sampling"
   ]
  }
 ],
 "metadata": {
  "kernelspec": {
   "display_name": "Python 3",
   "language": "python",
   "name": "python3"
  },
  "language_info": {
   "codemirror_mode": {
    "name": "ipython",
    "version": 3
   },
   "file_extension": ".py",
   "mimetype": "text/x-python",
   "name": "python",
   "nbconvert_exporter": "python",
   "pygments_lexer": "ipython3",
   "version": "3.7.3"
  }
 },
 "nbformat": 4,
 "nbformat_minor": 2
}
